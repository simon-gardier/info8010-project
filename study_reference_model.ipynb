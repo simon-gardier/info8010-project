{
 "cells": [
  {
   "cell_type": "code",
   "execution_count": null,
   "id": "98b22472",
   "metadata": {},
   "outputs": [
    {
     "name": "stdout",
     "output_type": "stream",
     "text": [
      "PRO TIP 💡 Replace 'model=yolov5m.pt' with new 'model=yolov5mu.pt'.\n",
      "YOLOv5 'u' models are trained with https://github.com/ultralytics/ultralytics and feature improved performance vs standard YOLOv5 models trained with https://github.com/ultralytics/yolov5.\n",
      "\n",
      "\n",
      "WARNING ⚠️ torch.Tensor inputs should be normalized 0.0-1.0 but max value is 5.052077293395996. Dividing input by 255.\n",
      "0: 640x640 (no detections), 954.1ms\n",
      "Speed: 0.0ms preprocess, 954.1ms inference, 3.6ms postprocess per image at shape (1, 3, 640, 640)\n"
     ]
    },
    {
     "name": "stderr",
     "output_type": "stream",
     "text": [
      "/home/simon/miniconda3/envs/info8010/lib/python3.13/site-packages/ultralytics/nn/modules/head.py:118: TracerWarning: Converting a tensor to a Python boolean might cause the trace to be incorrect. We can't record the data flow of Python values, so this value will be treated as a constant in the future. This means that the trace might not generalize to other inputs!\n",
      "  if self.format != \"imx\" and (self.dynamic or self.shape != shape):\n"
     ]
    },
    {
     "name": "stdout",
     "output_type": "stream",
     "text": [
      "Serving 'yolov5m_ref.onnx' at http://localhost:18675\n"
     ]
    },
    {
     "data": {
      "text/plain": [
       "('localhost', 18675)"
      ]
     },
     "execution_count": 6,
     "metadata": {},
     "output_type": "execute_result"
    },
    {
     "name": "stderr",
     "output_type": "stream",
     "text": [
      "gio: http://localhost:18675: Operation not supported\n"
     ]
    }
   ],
   "source": [
    "from ultralytics import YOLO\n",
    "import torch\n",
    "import netron\n",
    "\n",
    "model = YOLO('yolov5m.pt')\n",
    "\n",
    "x = torch.randn(1, 3, 640, 640).to(device)\n",
    "y = model(x)\n",
    "\n",
    "onnx_path = \"yolov5m_ref.onnx\"\n",
    "torch.onnx.export(\n",
    "    model.model,\n",
    "    x,\n",
    "    onnx_path,\n",
    "    opset_version=12\n",
    ")\n",
    "\n",
    "netron.start(onnx_path)\n"
   ]
  }
 ],
 "metadata": {
  "kernelspec": {
   "display_name": "info8010",
   "language": "python",
   "name": "python3"
  },
  "language_info": {
   "codemirror_mode": {
    "name": "ipython",
    "version": 3
   },
   "file_extension": ".py",
   "mimetype": "text/x-python",
   "name": "python",
   "nbconvert_exporter": "python",
   "pygments_lexer": "ipython3",
   "version": "3.10.16"
  }
 },
 "nbformat": 4,
 "nbformat_minor": 5
}

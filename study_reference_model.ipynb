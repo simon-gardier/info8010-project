{
 "cells": [
  {
   "cell_type": "code",
   "execution_count": null,
   "id": "4b466baf",
   "metadata": {},
   "outputs": [],
   "source": [
    "!pip install ultralytics"
   ]
  },
  {
   "cell_type": "code",
   "execution_count": null,
   "id": "e6ca10a5",
   "metadata": {},
   "outputs": [],
   "source": [
    "from ultralytics import YOLO\n",
    "import torch\n",
    "import netron\n",
    "\n",
    "model = YOLO('yolov5m.pt')\n",
    "\n",
    "x = torch.randn(1, 3, 640, 640)\n",
    "y = model(x)\n",
    "\n",
    "onnx_path = \"yolov5m_ref.onnx\"\n",
    "torch.onnx.export(\n",
    "    model.model,\n",
    "    x,\n",
    "    onnx_path,\n",
    "    opset_version=12\n",
    ")\n",
    "\n",
    "netron.start(onnx_path)\n"
   ]
  }
 ],
 "metadata": {
  "kernelspec": {
   "display_name": "info8010",
   "language": "python",
   "name": "python3"
  },
  "language_info": {
   "codemirror_mode": {
    "name": "ipython",
    "version": 3
   },
   "file_extension": ".py",
   "mimetype": "text/x-python",
   "name": "python",
   "nbconvert_exporter": "python",
   "pygments_lexer": "ipython3",
   "version": "3.10.16"
  }
 },
 "nbformat": 4,
 "nbformat_minor": 5
}
